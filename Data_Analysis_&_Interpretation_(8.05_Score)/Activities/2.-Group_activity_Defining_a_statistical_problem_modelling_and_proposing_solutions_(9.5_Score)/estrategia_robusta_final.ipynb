{
 "cells": [
  {
   "cell_type": "markdown",
   "metadata": {},
   "source": [
    "# ¿Se puede medir el bienestar de un país en función de las emociones encontradas en las canciones más escuchadas? (Análisis Descriptivo Robusto)\n",
    "* Actividad 2 Grupal del CUA de Data Analyst, Análisis e Interpretación de Datos, UNIR 2023\n",
    "    * Realizado por:\n",
    "            * David Toscano Recalde\n",
    "            * Nicolás Felipe Trujillo Montero\n",
    "            * Iris Aguado Fernández"
   ]
  },
  {
   "cell_type": "markdown",
   "metadata": {},
   "source": [
    "## Descripción\n",
    "Nuestro objetivo es realizar un análisis tomando de muestra aleatoria de personas de EEUU para observar si existe una relación entre la canción más escuchada en un país y la situación económica del país. Para ello, partiremos de una serie de datos y realizaremos un par de análisis descriptivos, uno general y uno robusto para llegar a una conclusión. \n",
    "\n",
    "Los datos son los siguientes:\n",
    "* Top 1 de Spotify (charts.csv): Se trata de un dataframe completo de todas las canciones top 200 y virales 50 gráficos publicados globalmente por Spotify. (Fuente: https://www.kaggle.com/datasets/dhruvildave/spotify-charts?resource=download)\n",
    "* Lista de Canciones junto con Emocion asociadas (muse_v3.csv): Se trata de un dataframe que asocia 90.000 canciones con una emoción asociada a la canción en función de la letra de la canción. (Fuente: https://www.kaggle.com/code/cakiki/muse-dataset-getting-started/data)\n",
    "* Datos Macroeconómicos a nivel Estados Unidos (DP_LIVE.csv): Se trata de un dataframe que por cada mes nos indica los indicadores del país. (Fuente: https://databank.worldbank.org/reports.aspx?source=world-development-indicators#)"
   ]
  },
  {
   "cell_type": "markdown",
   "metadata": {},
   "source": [
    "## Importamos librerías y Datos"
   ]
  },
  {
   "cell_type": "code",
   "execution_count": 1,
   "metadata": {},
   "outputs": [],
   "source": [
    "######################################################\n",
    "# Tratamiento de Datos\n",
    "######################################################\n",
    "import pandas as pd\n",
    "import numpy as np\n",
    "from datetime import datetime\n",
    "import re\n",
    "from scipy.stats import trim_mean\n",
    "from sklearn.linear_model import LinearRegression\n",
    "from sklearn import metrics\n",
    "\n",
    "######################################################\n",
    "# Gráficos\n",
    "######################################################\n",
    "import matplotlib.pyplot as plt\n",
    "import seaborn as sns"
   ]
  },
  {
   "cell_type": "code",
   "execution_count": 2,
   "metadata": {},
   "outputs": [],
   "source": [
    "# DF Top Spotify\n",
    "df_top_original = pd.read_csv(\"charts.csv\")  \n",
    "\n",
    "# DF Etiquetas X Cancion\n",
    "df_labels_original = pd.read_csv(\"muse_v3.csv\")\n",
    "\n",
    "# DF Variables Macroec\n",
    "economic_df_original = pd.read_csv(\"DP_LIVE.csv\")"
   ]
  },
  {
   "cell_type": "markdown",
   "metadata": {},
   "source": [
    "## Depuración y Filtración para hacer el análisis"
   ]
  },
  {
   "cell_type": "markdown",
   "metadata": {},
   "source": [
    "1.- Nos quedamos con el top 1 de solo nuestro tamaño de la muestra, es decir, Estados Unidos\n",
    "\n",
    "NOTA: El valor de streams es NaN cuando la columna chart es \"viral50\"."
   ]
  },
  {
   "cell_type": "code",
   "execution_count": 3,
   "metadata": {},
   "outputs": [],
   "source": [
    "#Leemos en data set, y eliminamos los datos que sean de otros paises\n",
    "df_top = pd.read_csv(\"charts.csv\")\n",
    "condicion=df_top[\"region\"]==\"United States\"\n",
    "df_top = df_top[condicion]\n",
    "#df_top contiene un listado de canciones del top200 de spotify DIARIO"
   ]
  },
  {
   "cell_type": "markdown",
   "metadata": {},
   "source": [
    "2.- Realizamos un filtrado para poder juntar df_top con df_labels."
   ]
  },
  {
   "cell_type": "code",
   "execution_count": 4,
   "metadata": {},
   "outputs": [
    {
     "name": "stdout",
     "output_type": "stream",
     "text": [
      "lastfm_url                90001\n",
      "title                     90001\n",
      "artist                    90001\n",
      "seeds                     90001\n",
      "number_of_emotion_tags    90001\n",
      "valence_tags              90001\n",
      "arousal_tags              90001\n",
      "dominance_tags            90001\n",
      "mbid                      61217\n",
      "spotify_id                61630\n",
      "genre                     83362\n",
      "dtype: int64\n"
     ]
    },
    {
     "data": {
      "text/plain": [
       "0                     rap\n",
       "1                   metal\n",
       "2                     rap\n",
       "3                 hip-hop\n",
       "4                   metal\n",
       "               ...       \n",
       "89996                 NaN\n",
       "89997    progressive rock\n",
       "89998                 NaN\n",
       "89999                 NaN\n",
       "90000             ambient\n",
       "Name: genre, Length: 90001, dtype: object"
      ]
     },
     "metadata": {},
     "output_type": "display_data"
    }
   ],
   "source": [
    "df_labels = df_labels_original.copy()\n",
    "\n",
    "# Cambiamos la columna track por title para poder juntarlo con df_top\n",
    "df_labels.rename(columns = {'track':'title'}, inplace = True)\n",
    "\n",
    "# Tenemos que ver si hay valores NA, y si los hay ver si nos merece la pena eliminarlos.\n",
    "print(df_labels.count())\n",
    "display(df_labels[\"genre\"])"
   ]
  },
  {
   "cell_type": "code",
   "execution_count": 5,
   "metadata": {},
   "outputs": [
    {
     "data": {
      "text/plain": [
       "lastfm_url                83362\n",
       "title                     83362\n",
       "artist                    83362\n",
       "seeds                     83362\n",
       "number_of_emotion_tags    83362\n",
       "valence_tags              83362\n",
       "arousal_tags              83362\n",
       "dominance_tags            83362\n",
       "mbid                      58559\n",
       "spotify_id                58687\n",
       "genre                     83362\n",
       "dtype: int64"
      ]
     },
     "metadata": {},
     "output_type": "display_data"
    }
   ],
   "source": [
    "df_labels.drop(df_labels[df_labels['genre'].isna()].index, inplace = True)\n",
    "display(df_labels.count())"
   ]
  },
  {
   "cell_type": "code",
   "execution_count": 6,
   "metadata": {},
   "outputs": [
    {
     "data": {
      "text/plain": [
       "lastfm_url                284803\n",
       "title                     284803\n",
       "artist_x                  284803\n",
       "seeds                     284803\n",
       "number_of_emotion_tags    284803\n",
       "valence_tags              284803\n",
       "arousal_tags              284803\n",
       "dominance_tags            284803\n",
       "mbid                      210823\n",
       "spotify_id                247773\n",
       "genre                     284803\n",
       "rank                      284803\n",
       "date                      284803\n",
       "artist_y                  284803\n",
       "url                       284803\n",
       "COUNTRY                   284803\n",
       "chart                     284803\n",
       "trend                     284803\n",
       "streams                   228728\n",
       "year                      284803\n",
       "month                     284803\n",
       "dtype: int64"
      ]
     },
     "metadata": {},
     "output_type": "display_data"
    }
   ],
   "source": [
    "df_merged = pd.merge(df_labels,df_top,how=\"inner\", on = \"title\")\n",
    "df_merged.drop(['mbid','spotify_id'], axis=1)\n",
    "df_merged['date'] = pd.to_datetime(df_merged['date'],format=\"%Y-%m-%d\")\n",
    "df_merged[\"year\"]=df_merged[\"date\"].dt.year\n",
    "df_merged[\"month\"]=df_merged[\"date\"].dt.month\n",
    "df_merged.rename(columns = {'region':'COUNTRY'}, inplace = True)\n",
    "display(df_merged.count())"
   ]
  },
  {
   "cell_type": "markdown",
   "metadata": {},
   "source": [
    "3.- Realizamos un filtrado de US_SECONOMICS "
   ]
  },
  {
   "cell_type": "code",
   "execution_count": 7,
   "metadata": {},
   "outputs": [
    {
     "data": {
      "text/html": [
       "<div>\n",
       "<style scoped>\n",
       "    .dataframe tbody tr th:only-of-type {\n",
       "        vertical-align: middle;\n",
       "    }\n",
       "\n",
       "    .dataframe tbody tr th {\n",
       "        vertical-align: top;\n",
       "    }\n",
       "\n",
       "    .dataframe thead th {\n",
       "        text-align: right;\n",
       "    }\n",
       "</style>\n",
       "<table border=\"1\" class=\"dataframe\">\n",
       "  <thead>\n",
       "    <tr style=\"text-align: right;\">\n",
       "      <th></th>\n",
       "      <th>LOCATION</th>\n",
       "      <th>INDICATOR</th>\n",
       "      <th>SUBJECT</th>\n",
       "      <th>MEASURE</th>\n",
       "      <th>FREQUENCY</th>\n",
       "      <th>TIME</th>\n",
       "      <th>Value</th>\n",
       "      <th>Flag Codes</th>\n",
       "      <th>date</th>\n",
       "      <th>year</th>\n",
       "      <th>month</th>\n",
       "    </tr>\n",
       "  </thead>\n",
       "  <tbody>\n",
       "    <tr>\n",
       "      <th>18904</th>\n",
       "      <td>USA</td>\n",
       "      <td>HUR</td>\n",
       "      <td>TOT</td>\n",
       "      <td>PC_LF</td>\n",
       "      <td>M</td>\n",
       "      <td>2022-08</td>\n",
       "      <td>3.7</td>\n",
       "      <td>NaN</td>\n",
       "      <td>2022-08-01</td>\n",
       "      <td>2022</td>\n",
       "      <td>8</td>\n",
       "    </tr>\n",
       "    <tr>\n",
       "      <th>18905</th>\n",
       "      <td>USA</td>\n",
       "      <td>HUR</td>\n",
       "      <td>TOT</td>\n",
       "      <td>PC_LF</td>\n",
       "      <td>M</td>\n",
       "      <td>2022-09</td>\n",
       "      <td>3.5</td>\n",
       "      <td>NaN</td>\n",
       "      <td>2022-09-01</td>\n",
       "      <td>2022</td>\n",
       "      <td>9</td>\n",
       "    </tr>\n",
       "    <tr>\n",
       "      <th>18906</th>\n",
       "      <td>USA</td>\n",
       "      <td>HUR</td>\n",
       "      <td>TOT</td>\n",
       "      <td>PC_LF</td>\n",
       "      <td>M</td>\n",
       "      <td>2022-10</td>\n",
       "      <td>3.7</td>\n",
       "      <td>NaN</td>\n",
       "      <td>2022-10-01</td>\n",
       "      <td>2022</td>\n",
       "      <td>10</td>\n",
       "    </tr>\n",
       "    <tr>\n",
       "      <th>18907</th>\n",
       "      <td>USA</td>\n",
       "      <td>HUR</td>\n",
       "      <td>TOT</td>\n",
       "      <td>PC_LF</td>\n",
       "      <td>M</td>\n",
       "      <td>2022-11</td>\n",
       "      <td>3.6</td>\n",
       "      <td>NaN</td>\n",
       "      <td>2022-11-01</td>\n",
       "      <td>2022</td>\n",
       "      <td>11</td>\n",
       "    </tr>\n",
       "    <tr>\n",
       "      <th>18908</th>\n",
       "      <td>USA</td>\n",
       "      <td>HUR</td>\n",
       "      <td>TOT</td>\n",
       "      <td>PC_LF</td>\n",
       "      <td>M</td>\n",
       "      <td>2022-12</td>\n",
       "      <td>3.5</td>\n",
       "      <td>NaN</td>\n",
       "      <td>2022-12-01</td>\n",
       "      <td>2022</td>\n",
       "      <td>12</td>\n",
       "    </tr>\n",
       "  </tbody>\n",
       "</table>\n",
       "</div>"
      ],
      "text/plain": [
       "      LOCATION INDICATOR SUBJECT MEASURE FREQUENCY     TIME  Value Flag Codes  \\\n",
       "18904      USA       HUR     TOT   PC_LF         M  2022-08    3.7        NaN   \n",
       "18905      USA       HUR     TOT   PC_LF         M  2022-09    3.5        NaN   \n",
       "18906      USA       HUR     TOT   PC_LF         M  2022-10    3.7        NaN   \n",
       "18907      USA       HUR     TOT   PC_LF         M  2022-11    3.6        NaN   \n",
       "18908      USA       HUR     TOT   PC_LF         M  2022-12    3.5        NaN   \n",
       "\n",
       "            date  year  month  \n",
       "18904 2022-08-01  2022      8  \n",
       "18905 2022-09-01  2022      9  \n",
       "18906 2022-10-01  2022     10  \n",
       "18907 2022-11-01  2022     11  \n",
       "18908 2022-12-01  2022     12  "
      ]
     },
     "execution_count": 7,
     "metadata": {},
     "output_type": "execute_result"
    }
   ],
   "source": [
    "economic_df = economic_df_original.copy()\n",
    "\n",
    "# El data set de economia contien datos deiferentes medidos de forma diferente, por ello a continuacion se describe como deseamos los datos\n",
    "#[\"SUBJECT\"]==\"TOT\"] significa que queremos la medicion total, no solo en hombres ni solo en mujeres, sino total \n",
    "#[\"FREQUENCY\"]==\"M\"] definimos para obtener la medida de forma mensual, A significari anual por ejemplo\n",
    "economic_df= economic_df[(economic_df[\"LOCATION\"]==\"USA\") & (economic_df[\"SUBJECT\"]==\"TOT\") & (economic_df[\"FREQUENCY\"]==\"M\")]\n",
    "\n",
    "economic_df['date'] = pd.to_datetime(economic_df['TIME'],format=\"%Y-%m\")\n",
    "economic_df[\"year\"]=economic_df[\"date\"].dt.year\n",
    "economic_df[\"month\"]=economic_df[\"date\"].dt.month\n",
    "economic_df.tail()"
   ]
  },
  {
   "cell_type": "markdown",
   "metadata": {},
   "source": [
    "4.- Modificamos ambos dataframes para la union"
   ]
  },
  {
   "cell_type": "code",
   "execution_count": 8,
   "metadata": {},
   "outputs": [],
   "source": [
    "# Realizamos el merge en funcion del año y mes \n",
    "df_master = pd.merge(economic_df,df_merged,how=\"inner\", on = [\"year\",\"month\"])\n"
   ]
  },
  {
   "cell_type": "code",
   "execution_count": 9,
   "metadata": {},
   "outputs": [],
   "source": [
    "# Eliminamos algunas columnas para que el dataframe se visualize mejor \n",
    "df_master.drop(columns=['INDICATOR', 'SUBJECT', \"MEASURE\",\n",
    "                        \"lastfm_url\",\"artist_x\",\"url\",\"chart\",\"trend\",\"FREQUENCY\"\t,\n",
    "                        \"TIME\",\"Flag Codes\",\"LOCATION\"\t,\"date_x\",\"mbid\",\n",
    "                        \"spotify_id\",\t\"genre\"\t,\"date_y\",\n",
    "                        \"number_of_emotion_tags\",\t\"valence_tags\",\t\"arousal_tags\",\t\"dominance_tags\",\n",
    "                        \"artist_y\"],inplace=True)"
   ]
  },
  {
   "cell_type": "code",
   "execution_count": 10,
   "metadata": {},
   "outputs": [],
   "source": [
    "# IMPORTANTE: ahora el dataframe contiene una columna que se llama \"seed\" la que tiene el perfil emocional de la cancion\n",
    "# pero esta informacion esta en formato string, asi que primero debemos crear una columna con los adjetivos de mas importancia\n",
    "# estos adjetivos los defini observando el dataframe y definiendo los mas recurrentes y  mas representativos\n",
    "\n",
    "labels = [\"angry\", \"aggressive\",\n",
    "            \"romantic\",\"optimistic\",\"positive\",\n",
    "            \"powerful\",\n",
    "            \"light\",\n",
    "            \"sad\",\n",
    "            \"dramatic\",\n",
    "            \"bitter\",\n",
    "            \"smooth\"]\n",
    "\n",
    "def iscategory(x,y):\n",
    "    return bool(re.search(x,y))\n",
    "\n",
    "for word in labels:\n",
    "    df_master[word]=word\n",
    "    df_master[word] = df_master.apply(lambda x1: iscategory(x1[word], x1['seeds']), axis=1)\n",
    "    \n",
    "df_master.drop(df_master[df_master[\"streams\"] == \"NO\"].index, inplace = True)"
   ]
  },
  {
   "cell_type": "code",
   "execution_count": 11,
   "metadata": {},
   "outputs": [
    {
     "data": {
      "text/plain": [
       "Index(['Value', 'year', 'month', 'title', 'seeds', 'rank', 'COUNTRY',\n",
       "       'streams', 'angry', 'aggressive', 'romantic', 'optimistic', 'positive',\n",
       "       'powerful', 'light', 'sad', 'dramatic', 'bitter', 'smooth'],\n",
       "      dtype='object')"
      ]
     },
     "metadata": {},
     "output_type": "display_data"
    }
   ],
   "source": [
    "display(df_master.columns)"
   ]
  },
  {
   "cell_type": "code",
   "execution_count": 12,
   "metadata": {},
   "outputs": [],
   "source": [
    "df_master[\"streams\"]=df_master[\"streams\"].astype(np.float64)\n",
    "\n",
    "df_master = df_master.groupby([\"year\",\"month\"]).agg(\n",
    "    {'angry':'mean',\n",
    "    'Value':'mean',\n",
    "    \"angry\":'mean', \n",
    "    \"aggressive\":'mean',\n",
    "    \"romantic\":'mean',\n",
    "    \"optimistic\":'mean',\n",
    "    \"positive\":'mean',\n",
    "    \"powerful\":'mean',\n",
    "    \"light\":'mean',\n",
    "    \"sad\":'mean',\n",
    "    \"dramatic\":'mean',\n",
    "    \"bitter\":'mean',\n",
    "    \"smooth\":'mean',\n",
    "    \"streams\":'sum'\n",
    "    })\n",
    "df_master = df_master.reset_index()"
   ]
  },
  {
   "cell_type": "code",
   "execution_count": 13,
   "metadata": {},
   "outputs": [
    {
     "data": {
      "text/plain": [
       "year            int64\n",
       "month           int64\n",
       "angry         float64\n",
       "Value         float64\n",
       "aggressive    float64\n",
       "romantic      float64\n",
       "optimistic    float64\n",
       "positive      float64\n",
       "powerful      float64\n",
       "light         float64\n",
       "sad           float64\n",
       "dramatic      float64\n",
       "bitter        float64\n",
       "smooth        float64\n",
       "streams       float64\n",
       "dtype: object"
      ]
     },
     "execution_count": 13,
     "metadata": {},
     "output_type": "execute_result"
    }
   ],
   "source": [
    "df_master.dtypes"
   ]
  },
  {
   "cell_type": "code",
   "execution_count": 14,
   "metadata": {},
   "outputs": [
    {
     "data": {
      "text/html": [
       "<div>\n",
       "<style scoped>\n",
       "    .dataframe tbody tr th:only-of-type {\n",
       "        vertical-align: middle;\n",
       "    }\n",
       "\n",
       "    .dataframe tbody tr th {\n",
       "        vertical-align: top;\n",
       "    }\n",
       "\n",
       "    .dataframe thead th {\n",
       "        text-align: right;\n",
       "    }\n",
       "</style>\n",
       "<table border=\"1\" class=\"dataframe\">\n",
       "  <thead>\n",
       "    <tr style=\"text-align: right;\">\n",
       "      <th></th>\n",
       "      <th>year</th>\n",
       "      <th>month</th>\n",
       "      <th>angry</th>\n",
       "      <th>Value</th>\n",
       "      <th>aggressive</th>\n",
       "      <th>romantic</th>\n",
       "      <th>optimistic</th>\n",
       "      <th>positive</th>\n",
       "      <th>powerful</th>\n",
       "      <th>light</th>\n",
       "      <th>sad</th>\n",
       "      <th>dramatic</th>\n",
       "      <th>bitter</th>\n",
       "      <th>smooth</th>\n",
       "      <th>streams</th>\n",
       "    </tr>\n",
       "  </thead>\n",
       "  <tbody>\n",
       "    <tr>\n",
       "      <th>0</th>\n",
       "      <td>2017</td>\n",
       "      <td>1</td>\n",
       "      <td>0.005325</td>\n",
       "      <td>4.7</td>\n",
       "      <td>0.014294</td>\n",
       "      <td>0.017377</td>\n",
       "      <td>0.004624</td>\n",
       "      <td>0.012752</td>\n",
       "      <td>0.021160</td>\n",
       "      <td>0.040779</td>\n",
       "      <td>0.024383</td>\n",
       "      <td>0.009950</td>\n",
       "      <td>0.037836</td>\n",
       "      <td>0.027046</td>\n",
       "      <td>1.707592e+09</td>\n",
       "    </tr>\n",
       "    <tr>\n",
       "      <th>1</th>\n",
       "      <td>2017</td>\n",
       "      <td>2</td>\n",
       "      <td>0.005842</td>\n",
       "      <td>4.6</td>\n",
       "      <td>0.029337</td>\n",
       "      <td>0.013716</td>\n",
       "      <td>0.005588</td>\n",
       "      <td>0.006477</td>\n",
       "      <td>0.017145</td>\n",
       "      <td>0.042037</td>\n",
       "      <td>0.027051</td>\n",
       "      <td>0.013335</td>\n",
       "      <td>0.029591</td>\n",
       "      <td>0.034290</td>\n",
       "      <td>1.725893e+09</td>\n",
       "    </tr>\n",
       "    <tr>\n",
       "      <th>2</th>\n",
       "      <td>2017</td>\n",
       "      <td>3</td>\n",
       "      <td>0.002849</td>\n",
       "      <td>4.4</td>\n",
       "      <td>0.022249</td>\n",
       "      <td>0.011260</td>\n",
       "      <td>0.010582</td>\n",
       "      <td>0.011260</td>\n",
       "      <td>0.020079</td>\n",
       "      <td>0.013295</td>\n",
       "      <td>0.052503</td>\n",
       "      <td>0.020621</td>\n",
       "      <td>0.028219</td>\n",
       "      <td>0.031746</td>\n",
       "      <td>2.081394e+09</td>\n",
       "    </tr>\n",
       "    <tr>\n",
       "      <th>3</th>\n",
       "      <td>2017</td>\n",
       "      <td>4</td>\n",
       "      <td>0.005139</td>\n",
       "      <td>4.4</td>\n",
       "      <td>0.016150</td>\n",
       "      <td>0.018499</td>\n",
       "      <td>0.006607</td>\n",
       "      <td>0.014535</td>\n",
       "      <td>0.024226</td>\n",
       "      <td>0.013214</td>\n",
       "      <td>0.037733</td>\n",
       "      <td>0.019968</td>\n",
       "      <td>0.020555</td>\n",
       "      <td>0.023198</td>\n",
       "      <td>1.975262e+09</td>\n",
       "    </tr>\n",
       "    <tr>\n",
       "      <th>4</th>\n",
       "      <td>2017</td>\n",
       "      <td>5</td>\n",
       "      <td>0.024734</td>\n",
       "      <td>4.4</td>\n",
       "      <td>0.013268</td>\n",
       "      <td>0.035545</td>\n",
       "      <td>0.016708</td>\n",
       "      <td>0.007371</td>\n",
       "      <td>0.017690</td>\n",
       "      <td>0.015070</td>\n",
       "      <td>0.046355</td>\n",
       "      <td>0.023260</td>\n",
       "      <td>0.015070</td>\n",
       "      <td>0.018837</td>\n",
       "      <td>1.798737e+09</td>\n",
       "    </tr>\n",
       "    <tr>\n",
       "      <th>5</th>\n",
       "      <td>2017</td>\n",
       "      <td>6</td>\n",
       "      <td>0.015459</td>\n",
       "      <td>4.3</td>\n",
       "      <td>0.027505</td>\n",
       "      <td>0.040956</td>\n",
       "      <td>0.011845</td>\n",
       "      <td>0.004417</td>\n",
       "      <td>0.013250</td>\n",
       "      <td>0.015660</td>\n",
       "      <td>0.043365</td>\n",
       "      <td>0.019474</td>\n",
       "      <td>0.032323</td>\n",
       "      <td>0.026902</td>\n",
       "      <td>1.444662e+09</td>\n",
       "    </tr>\n",
       "    <tr>\n",
       "      <th>6</th>\n",
       "      <td>2017</td>\n",
       "      <td>7</td>\n",
       "      <td>0.014717</td>\n",
       "      <td>4.3</td>\n",
       "      <td>0.021423</td>\n",
       "      <td>0.043405</td>\n",
       "      <td>0.012109</td>\n",
       "      <td>0.001863</td>\n",
       "      <td>0.008756</td>\n",
       "      <td>0.010246</td>\n",
       "      <td>0.041170</td>\n",
       "      <td>0.011364</td>\n",
       "      <td>0.030179</td>\n",
       "      <td>0.026826</td>\n",
       "      <td>1.504231e+09</td>\n",
       "    </tr>\n",
       "    <tr>\n",
       "      <th>7</th>\n",
       "      <td>2017</td>\n",
       "      <td>8</td>\n",
       "      <td>0.013544</td>\n",
       "      <td>4.4</td>\n",
       "      <td>0.030214</td>\n",
       "      <td>0.047925</td>\n",
       "      <td>0.006425</td>\n",
       "      <td>0.004688</td>\n",
       "      <td>0.016322</td>\n",
       "      <td>0.013370</td>\n",
       "      <td>0.038896</td>\n",
       "      <td>0.011808</td>\n",
       "      <td>0.023789</td>\n",
       "      <td>0.030214</td>\n",
       "      <td>1.612867e+09</td>\n",
       "    </tr>\n",
       "    <tr>\n",
       "      <th>8</th>\n",
       "      <td>2017</td>\n",
       "      <td>9</td>\n",
       "      <td>0.026703</td>\n",
       "      <td>4.3</td>\n",
       "      <td>0.023978</td>\n",
       "      <td>0.045232</td>\n",
       "      <td>0.003451</td>\n",
       "      <td>0.000000</td>\n",
       "      <td>0.014896</td>\n",
       "      <td>0.013624</td>\n",
       "      <td>0.035604</td>\n",
       "      <td>0.012352</td>\n",
       "      <td>0.027611</td>\n",
       "      <td>0.030154</td>\n",
       "      <td>1.560836e+09</td>\n",
       "    </tr>\n",
       "    <tr>\n",
       "      <th>9</th>\n",
       "      <td>2017</td>\n",
       "      <td>10</td>\n",
       "      <td>0.019469</td>\n",
       "      <td>4.2</td>\n",
       "      <td>0.021416</td>\n",
       "      <td>0.037345</td>\n",
       "      <td>0.008319</td>\n",
       "      <td>0.009204</td>\n",
       "      <td>0.018761</td>\n",
       "      <td>0.012566</td>\n",
       "      <td>0.036991</td>\n",
       "      <td>0.017522</td>\n",
       "      <td>0.027788</td>\n",
       "      <td>0.021416</td>\n",
       "      <td>1.450200e+09</td>\n",
       "    </tr>\n",
       "    <tr>\n",
       "      <th>10</th>\n",
       "      <td>2017</td>\n",
       "      <td>11</td>\n",
       "      <td>0.018018</td>\n",
       "      <td>4.2</td>\n",
       "      <td>0.011314</td>\n",
       "      <td>0.039807</td>\n",
       "      <td>0.008171</td>\n",
       "      <td>0.009009</td>\n",
       "      <td>0.023046</td>\n",
       "      <td>0.015923</td>\n",
       "      <td>0.034988</td>\n",
       "      <td>0.027237</td>\n",
       "      <td>0.028913</td>\n",
       "      <td>0.026608</td>\n",
       "      <td>1.360176e+09</td>\n",
       "    </tr>\n",
       "    <tr>\n",
       "      <th>11</th>\n",
       "      <td>2017</td>\n",
       "      <td>12</td>\n",
       "      <td>0.017788</td>\n",
       "      <td>4.1</td>\n",
       "      <td>0.007769</td>\n",
       "      <td>0.050705</td>\n",
       "      <td>0.012063</td>\n",
       "      <td>0.005520</td>\n",
       "      <td>0.020650</td>\n",
       "      <td>0.029033</td>\n",
       "      <td>0.050705</td>\n",
       "      <td>0.019015</td>\n",
       "      <td>0.031895</td>\n",
       "      <td>0.020037</td>\n",
       "      <td>1.391501e+09</td>\n",
       "    </tr>\n",
       "  </tbody>\n",
       "</table>\n",
       "</div>"
      ],
      "text/plain": [
       "    year  month     angry  Value  aggressive  romantic  optimistic  positive  \\\n",
       "0   2017      1  0.005325    4.7    0.014294  0.017377    0.004624  0.012752   \n",
       "1   2017      2  0.005842    4.6    0.029337  0.013716    0.005588  0.006477   \n",
       "2   2017      3  0.002849    4.4    0.022249  0.011260    0.010582  0.011260   \n",
       "3   2017      4  0.005139    4.4    0.016150  0.018499    0.006607  0.014535   \n",
       "4   2017      5  0.024734    4.4    0.013268  0.035545    0.016708  0.007371   \n",
       "5   2017      6  0.015459    4.3    0.027505  0.040956    0.011845  0.004417   \n",
       "6   2017      7  0.014717    4.3    0.021423  0.043405    0.012109  0.001863   \n",
       "7   2017      8  0.013544    4.4    0.030214  0.047925    0.006425  0.004688   \n",
       "8   2017      9  0.026703    4.3    0.023978  0.045232    0.003451  0.000000   \n",
       "9   2017     10  0.019469    4.2    0.021416  0.037345    0.008319  0.009204   \n",
       "10  2017     11  0.018018    4.2    0.011314  0.039807    0.008171  0.009009   \n",
       "11  2017     12  0.017788    4.1    0.007769  0.050705    0.012063  0.005520   \n",
       "\n",
       "    powerful     light       sad  dramatic    bitter    smooth       streams  \n",
       "0   0.021160  0.040779  0.024383  0.009950  0.037836  0.027046  1.707592e+09  \n",
       "1   0.017145  0.042037  0.027051  0.013335  0.029591  0.034290  1.725893e+09  \n",
       "2   0.020079  0.013295  0.052503  0.020621  0.028219  0.031746  2.081394e+09  \n",
       "3   0.024226  0.013214  0.037733  0.019968  0.020555  0.023198  1.975262e+09  \n",
       "4   0.017690  0.015070  0.046355  0.023260  0.015070  0.018837  1.798737e+09  \n",
       "5   0.013250  0.015660  0.043365  0.019474  0.032323  0.026902  1.444662e+09  \n",
       "6   0.008756  0.010246  0.041170  0.011364  0.030179  0.026826  1.504231e+09  \n",
       "7   0.016322  0.013370  0.038896  0.011808  0.023789  0.030214  1.612867e+09  \n",
       "8   0.014896  0.013624  0.035604  0.012352  0.027611  0.030154  1.560836e+09  \n",
       "9   0.018761  0.012566  0.036991  0.017522  0.027788  0.021416  1.450200e+09  \n",
       "10  0.023046  0.015923  0.034988  0.027237  0.028913  0.026608  1.360176e+09  \n",
       "11  0.020650  0.029033  0.050705  0.019015  0.031895  0.020037  1.391501e+09  "
      ]
     },
     "execution_count": 14,
     "metadata": {},
     "output_type": "execute_result"
    }
   ],
   "source": [
    "df_master.head(12)"
   ]
  },
  {
   "cell_type": "code",
   "execution_count": 15,
   "metadata": {},
   "outputs": [],
   "source": [
    "def calcul_tps_medianv2(x, column):\n",
    "    a=x[column].values.tolist()\n",
    "    if len(a)%2==1:\n",
    "        a = np.median(a)\n",
    "    elif len(a)==0:\n",
    "        a=0\n",
    "    else:\n",
    "        a= a[np.argpartition(a,int((len(a)/2)-1))[int((len(a)/2)-1)]]\n",
    "    return a"
   ]
  },
  {
   "cell_type": "code",
   "execution_count": 16,
   "metadata": {},
   "outputs": [],
   "source": [
    "columns_aux = list(set(df_master.columns)-set(['year', 'month', 'streams']))\n",
    "df_master_filtered = []\n",
    "for _year in range(2017,2022):\n",
    "    df_aux = df_master[df_master['year'] == _year]\n",
    "    value_median = calcul_tps_medianv2(df_aux, 'Value')\n",
    "    df_aux = df_aux[df_aux['Value'] == value_median].iloc[0]\n",
    "    df_aux = df_aux[columns_aux].values.ravel()\n",
    "    df_master_filtered.append(df_aux)"
   ]
  },
  {
   "cell_type": "code",
   "execution_count": 17,
   "metadata": {},
   "outputs": [],
   "source": [
    "df_master_res = pd.DataFrame(df_master_filtered, columns = columns_aux)"
   ]
  },
  {
   "cell_type": "code",
   "execution_count": 18,
   "metadata": {},
   "outputs": [
    {
     "data": {
      "text/html": [
       "<div>\n",
       "<style scoped>\n",
       "    .dataframe tbody tr th:only-of-type {\n",
       "        vertical-align: middle;\n",
       "    }\n",
       "\n",
       "    .dataframe tbody tr th {\n",
       "        vertical-align: top;\n",
       "    }\n",
       "\n",
       "    .dataframe thead th {\n",
       "        text-align: right;\n",
       "    }\n",
       "</style>\n",
       "<table border=\"1\" class=\"dataframe\">\n",
       "  <thead>\n",
       "    <tr style=\"text-align: right;\">\n",
       "      <th></th>\n",
       "      <th>optimistic</th>\n",
       "      <th>angry</th>\n",
       "      <th>powerful</th>\n",
       "      <th>romantic</th>\n",
       "      <th>dramatic</th>\n",
       "      <th>bitter</th>\n",
       "      <th>smooth</th>\n",
       "      <th>Value</th>\n",
       "      <th>sad</th>\n",
       "      <th>light</th>\n",
       "      <th>aggressive</th>\n",
       "      <th>positive</th>\n",
       "    </tr>\n",
       "  </thead>\n",
       "  <tbody>\n",
       "    <tr>\n",
       "      <th>2017</th>\n",
       "      <td>0.011845</td>\n",
       "      <td>0.015459</td>\n",
       "      <td>0.013250</td>\n",
       "      <td>0.040956</td>\n",
       "      <td>0.019474</td>\n",
       "      <td>0.032323</td>\n",
       "      <td>0.026902</td>\n",
       "      <td>4.3</td>\n",
       "      <td>0.043365</td>\n",
       "      <td>0.015660</td>\n",
       "      <td>0.027505</td>\n",
       "      <td>0.004417</td>\n",
       "    </tr>\n",
       "    <tr>\n",
       "      <th>2018</th>\n",
       "      <td>0.026576</td>\n",
       "      <td>0.023344</td>\n",
       "      <td>0.038068</td>\n",
       "      <td>0.031604</td>\n",
       "      <td>0.009337</td>\n",
       "      <td>0.009337</td>\n",
       "      <td>0.028192</td>\n",
       "      <td>3.8</td>\n",
       "      <td>0.064644</td>\n",
       "      <td>0.012929</td>\n",
       "      <td>0.021907</td>\n",
       "      <td>0.005207</td>\n",
       "    </tr>\n",
       "    <tr>\n",
       "      <th>2019</th>\n",
       "      <td>0.004535</td>\n",
       "      <td>0.012956</td>\n",
       "      <td>0.036493</td>\n",
       "      <td>0.017491</td>\n",
       "      <td>0.004319</td>\n",
       "      <td>0.025696</td>\n",
       "      <td>0.036277</td>\n",
       "      <td>3.6</td>\n",
       "      <td>0.058087</td>\n",
       "      <td>0.011445</td>\n",
       "      <td>0.016195</td>\n",
       "      <td>0.017923</td>\n",
       "    </tr>\n",
       "    <tr>\n",
       "      <th>2020</th>\n",
       "      <td>0.017938</td>\n",
       "      <td>0.009396</td>\n",
       "      <td>0.018508</td>\n",
       "      <td>0.012244</td>\n",
       "      <td>0.002278</td>\n",
       "      <td>0.008257</td>\n",
       "      <td>0.006549</td>\n",
       "      <td>6.9</td>\n",
       "      <td>0.051253</td>\n",
       "      <td>0.021925</td>\n",
       "      <td>0.005125</td>\n",
       "      <td>0.009112</td>\n",
       "    </tr>\n",
       "    <tr>\n",
       "      <th>2021</th>\n",
       "      <td>0.010523</td>\n",
       "      <td>0.010204</td>\n",
       "      <td>0.014031</td>\n",
       "      <td>0.025191</td>\n",
       "      <td>0.000000</td>\n",
       "      <td>0.006059</td>\n",
       "      <td>0.036671</td>\n",
       "      <td>5.4</td>\n",
       "      <td>0.049426</td>\n",
       "      <td>0.000000</td>\n",
       "      <td>0.019452</td>\n",
       "      <td>0.007334</td>\n",
       "    </tr>\n",
       "  </tbody>\n",
       "</table>\n",
       "</div>"
      ],
      "text/plain": [
       "      optimistic     angry  powerful  romantic  dramatic    bitter    smooth  \\\n",
       "2017    0.011845  0.015459  0.013250  0.040956  0.019474  0.032323  0.026902   \n",
       "2018    0.026576  0.023344  0.038068  0.031604  0.009337  0.009337  0.028192   \n",
       "2019    0.004535  0.012956  0.036493  0.017491  0.004319  0.025696  0.036277   \n",
       "2020    0.017938  0.009396  0.018508  0.012244  0.002278  0.008257  0.006549   \n",
       "2021    0.010523  0.010204  0.014031  0.025191  0.000000  0.006059  0.036671   \n",
       "\n",
       "      Value       sad     light  aggressive  positive  \n",
       "2017    4.3  0.043365  0.015660    0.027505  0.004417  \n",
       "2018    3.8  0.064644  0.012929    0.021907  0.005207  \n",
       "2019    3.6  0.058087  0.011445    0.016195  0.017923  \n",
       "2020    6.9  0.051253  0.021925    0.005125  0.009112  \n",
       "2021    5.4  0.049426  0.000000    0.019452  0.007334  "
      ]
     },
     "execution_count": 18,
     "metadata": {},
     "output_type": "execute_result"
    }
   ],
   "source": [
    "df_master_res.index=range(2017,2022)\n",
    "df_master_res.head()"
   ]
  },
  {
   "cell_type": "markdown",
   "metadata": {},
   "source": [
    "# El dataframe queda listo, usar df_master para el analisis"
   ]
  },
  {
   "cell_type": "markdown",
   "metadata": {},
   "source": [
    "### A continuacion realizo unas graficas basicas exploratorias"
   ]
  },
  {
   "cell_type": "code",
   "execution_count": 19,
   "metadata": {},
   "outputs": [
    {
     "data": {
      "text/html": [
       "<div>\n",
       "<style scoped>\n",
       "    .dataframe tbody tr th:only-of-type {\n",
       "        vertical-align: middle;\n",
       "    }\n",
       "\n",
       "    .dataframe tbody tr th {\n",
       "        vertical-align: top;\n",
       "    }\n",
       "\n",
       "    .dataframe thead th {\n",
       "        text-align: right;\n",
       "    }\n",
       "</style>\n",
       "<table border=\"1\" class=\"dataframe\">\n",
       "  <thead>\n",
       "    <tr style=\"text-align: right;\">\n",
       "      <th></th>\n",
       "      <th>angry</th>\n",
       "      <th>sad</th>\n",
       "      <th>positive</th>\n",
       "      <th>optimistic</th>\n",
       "      <th>aggressive</th>\n",
       "      <th>Value</th>\n",
       "    </tr>\n",
       "  </thead>\n",
       "  <tbody>\n",
       "    <tr>\n",
       "      <th>2017</th>\n",
       "      <td>0.015459</td>\n",
       "      <td>0.043365</td>\n",
       "      <td>0.004417</td>\n",
       "      <td>0.011845</td>\n",
       "      <td>0.027505</td>\n",
       "      <td>4.3</td>\n",
       "    </tr>\n",
       "    <tr>\n",
       "      <th>2018</th>\n",
       "      <td>0.023344</td>\n",
       "      <td>0.064644</td>\n",
       "      <td>0.005207</td>\n",
       "      <td>0.026576</td>\n",
       "      <td>0.021907</td>\n",
       "      <td>3.8</td>\n",
       "    </tr>\n",
       "    <tr>\n",
       "      <th>2019</th>\n",
       "      <td>0.012956</td>\n",
       "      <td>0.058087</td>\n",
       "      <td>0.017923</td>\n",
       "      <td>0.004535</td>\n",
       "      <td>0.016195</td>\n",
       "      <td>3.6</td>\n",
       "    </tr>\n",
       "    <tr>\n",
       "      <th>2020</th>\n",
       "      <td>0.009396</td>\n",
       "      <td>0.051253</td>\n",
       "      <td>0.009112</td>\n",
       "      <td>0.017938</td>\n",
       "      <td>0.005125</td>\n",
       "      <td>6.9</td>\n",
       "    </tr>\n",
       "    <tr>\n",
       "      <th>2021</th>\n",
       "      <td>0.010204</td>\n",
       "      <td>0.049426</td>\n",
       "      <td>0.007334</td>\n",
       "      <td>0.010523</td>\n",
       "      <td>0.019452</td>\n",
       "      <td>5.4</td>\n",
       "    </tr>\n",
       "  </tbody>\n",
       "</table>\n",
       "</div>"
      ],
      "text/plain": [
       "         angry       sad  positive  optimistic  aggressive  Value\n",
       "2017  0.015459  0.043365  0.004417    0.011845    0.027505    4.3\n",
       "2018  0.023344  0.064644  0.005207    0.026576    0.021907    3.8\n",
       "2019  0.012956  0.058087  0.017923    0.004535    0.016195    3.6\n",
       "2020  0.009396  0.051253  0.009112    0.017938    0.005125    6.9\n",
       "2021  0.010204  0.049426  0.007334    0.010523    0.019452    5.4"
      ]
     },
     "metadata": {},
     "output_type": "display_data"
    }
   ],
   "source": [
    "display(df_master_res[['angry','sad','positive', 'optimistic','aggressive','Value']])\n",
    "# sns.scatterplot(data=df_master_res,x= df_master_res.index ,y=  'happy' )\n",
    "# sns.scatterplot(data=df_master_res,x= df_master_res.index ,y=  'Value' )\n",
    "# #plt.legend(loc='center',bbox_to_anchor=(1.12,0.5))\n",
    "# plt.show()"
   ]
  },
  {
   "cell_type": "code",
   "execution_count": 20,
   "metadata": {},
   "outputs": [
    {
     "data": {
      "text/plain": [
       "<AxesSubplot: xlabel='Value', ylabel='positive'>"
      ]
     },
     "execution_count": 20,
     "metadata": {},
     "output_type": "execute_result"
    },
    {
     "data": {
      "image/png": "[encoded data removed]",
      "text/plain": [
       "<Figure size 640x480 with 1 Axes>"
      ]
     },
     "metadata": {},
     "output_type": "display_data"
    }
   ],
   "source": [
    "sns.scatterplot(data=df_master_res,x= 'Value',y= 'positive')"
   ]
  },
  {
   "cell_type": "code",
   "execution_count": 21,
   "metadata": {},
   "outputs": [
    {
     "data": {
      "text/html": [
       "<style>#sk-container-id-1 {color: black;background-color: white;}#sk-container-id-1 pre{padding: 0;}#sk-container-id-1 div.sk-toggleable {background-color: white;}#sk-container-id-1 label.sk-toggleable__label {cursor: pointer;display: block;width: 100%;margin-bottom: 0;padding: 0.3em;box-sizing: border-box;text-align: center;}#sk-container-id-1 label.sk-toggleable__label-arrow:before {content: \"▸\";float: left;margin-right: 0.25em;color: #696969;}#sk-container-id-1 label.sk-toggleable__label-arrow:hover:before {color: black;}#sk-container-id-1 div.sk-estimator:hover label.sk-toggleable__label-arrow:before {color: black;}#sk-container-id-1 div.sk-toggleable__content {max-height: 0;max-width: 0;overflow: hidden;text-align: left;background-color: #f0f8ff;}#sk-container-id-1 div.sk-toggleable__content pre {margin: 0.2em;color: black;border-radius: 0.25em;background-color: #f0f8ff;}#sk-container-id-1 input.sk-toggleable__control:checked~div.sk-toggleable__content {max-height: 200px;max-width: 100%;overflow: auto;}#sk-container-id-1 input.sk-toggleable__control:checked~label.sk-toggleable__label-arrow:before {content: \"▾\";}#sk-container-id-1 div.sk-estimator input.sk-toggleable__control:checked~label.sk-toggleable__label {background-color: #d4ebff;}#sk-container-id-1 div.sk-label input.sk-toggleable__control:checked~label.sk-toggleable__label {background-color: #d4ebff;}#sk-container-id-1 input.sk-hidden--visually {border: 0;clip: rect(1px 1px 1px 1px);clip: rect(1px, 1px, 1px, 1px);height: 1px;margin: -1px;overflow: hidden;padding: 0;position: absolute;width: 1px;}#sk-container-id-1 div.sk-estimator {font-family: monospace;background-color: #f0f8ff;border: 1px dotted black;border-radius: 0.25em;box-sizing: border-box;margin-bottom: 0.5em;}#sk-container-id-1 div.sk-estimator:hover {background-color: #d4ebff;}#sk-container-id-1 div.sk-parallel-item::after {content: \"\";width: 100%;border-bottom: 1px solid gray;flex-grow: 1;}#sk-container-id-1 div.sk-label:hover label.sk-toggleable__label {background-color: #d4ebff;}#sk-container-id-1 div.sk-serial::before {content: \"\";position: absolute;border-left: 1px solid gray;box-sizing: border-box;top: 0;bottom: 0;left: 50%;z-index: 0;}#sk-container-id-1 div.sk-serial {display: flex;flex-direction: column;align-items: center;background-color: white;padding-right: 0.2em;padding-left: 0.2em;position: relative;}#sk-container-id-1 div.sk-item {position: relative;z-index: 1;}#sk-container-id-1 div.sk-parallel {display: flex;align-items: stretch;justify-content: center;background-color: white;position: relative;}#sk-container-id-1 div.sk-item::before, #sk-container-id-1 div.sk-parallel-item::before {content: \"\";position: absolute;border-left: 1px solid gray;box-sizing: border-box;top: 0;bottom: 0;left: 50%;z-index: -1;}#sk-container-id-1 div.sk-parallel-item {display: flex;flex-direction: column;z-index: 1;position: relative;background-color: white;}#sk-container-id-1 div.sk-parallel-item:first-child::after {align-self: flex-end;width: 50%;}#sk-container-id-1 div.sk-parallel-item:last-child::after {align-self: flex-start;width: 50%;}#sk-container-id-1 div.sk-parallel-item:only-child::after {width: 0;}#sk-container-id-1 div.sk-dashed-wrapped {border: 1px dashed gray;margin: 0 0.4em 0.5em 0.4em;box-sizing: border-box;padding-bottom: 0.4em;background-color: white;}#sk-container-id-1 div.sk-label label {font-family: monospace;font-weight: bold;display: inline-block;line-height: 1.2em;}#sk-container-id-1 div.sk-label-container {text-align: center;}#sk-container-id-1 div.sk-container {/* jupyter's `normalize.less` sets `[hidden] { display: none; }` but bootstrap.min.css set `[hidden] { display: none !important; }` so we also need the `!important` here to be able to override the default hidden behavior on the sphinx rendered scikit-learn.org. See: https://github.com/scikit-learn/scikit-learn/issues/21755 */display: inline-block !important;position: relative;}#sk-container-id-1 div.sk-text-repr-fallback {display: none;}</style><div id=\"sk-container-id-1\" class=\"sk-top-container\"><div class=\"sk-text-repr-fallback\"><pre>LinearRegression()</pre><b>In a Jupyter environment, please rerun this cell to show the HTML representation or trust the notebook. <br />On GitHub, the HTML representation is unable to render, please try loading this page with nbviewer.org.</b></div><div class=\"sk-container\" hidden><div class=\"sk-item\"><div class=\"sk-estimator sk-toggleable\"><input class=\"sk-toggleable__control sk-hidden--visually\" id=\"sk-estimator-id-1\" type=\"checkbox\" checked><label for=\"sk-estimator-id-1\" class=\"sk-toggleable__label sk-toggleable__label-arrow\">LinearRegression</label><div class=\"sk-toggleable__content\"><pre>LinearRegression()</pre></div></div></div></div></div>"
      ],
      "text/plain": [
       "LinearRegression()"
      ]
     },
     "execution_count": 21,
     "metadata": {},
     "output_type": "execute_result"
    }
   ],
   "source": [
    "model = LinearRegression()\n",
    "\n",
    "# Eliminamos el outlier \n",
    "df_master_res_pos = df_master_res.drop(index=(2019))\n",
    "model.fit(np.array(df_master_res_pos['Value']).reshape(-1,1), df_master_res_pos['positive'])"
   ]
  },
  {
   "cell_type": "code",
   "execution_count": 22,
   "metadata": {},
   "outputs": [
    {
     "name": "stdout",
     "output_type": "stream",
     "text": [
      "0.8994570907722056\n"
     ]
    }
   ],
   "source": [
    "prediccion = model.predict(np.array(df_master_res_pos['Value']).reshape(-1,1))\n",
    "print(metrics.r2_score(df_master_res_pos['positive'], prediccion))"
   ]
  },
  {
   "cell_type": "code",
   "execution_count": 23,
   "metadata": {},
   "outputs": [
    {
     "data": {
      "text/plain": [
       "[<matplotlib.lines.Line2D at 0x2101afe2390>]"
      ]
     },
     "execution_count": 23,
     "metadata": {},
     "output_type": "execute_result"
    },
    {
     "data": {
      "image/png": "[encoded data removed]",
      "text/plain": [
       "<Figure size 640x480 with 1 Axes>"
      ]
     },
     "metadata": {},
     "output_type": "display_data"
    }
   ],
   "source": [
    "sns.scatterplot(data=df_master_res_pos,x= 'Value',y= 'positive')\n",
    "plt.plot(df_master_res_pos['Value'], prediccion)"
   ]
  },
  {
   "cell_type": "code",
   "execution_count": 24,
   "metadata": {},
   "outputs": [
    {
     "data": {
      "text/plain": [
       "<AxesSubplot: xlabel='Value', ylabel='optimistic'>"
      ]
     },
     "execution_count": 24,
     "metadata": {},
     "output_type": "execute_result"
    },
    {
     "data": {
      "image/png": "[encoded data removed]",
      "text/plain": [
       "<Figure size 640x480 with 1 Axes>"
      ]
     },
     "metadata": {},
     "output_type": "display_data"
    }
   ],
   "source": [
    "sns.scatterplot(data=df_master_res,x= 'Value',y= 'optimistic')"
   ]
  },
  {
   "cell_type": "code",
   "execution_count": 25,
   "metadata": {},
   "outputs": [
    {
     "name": "stdout",
     "output_type": "stream",
     "text": [
      "0.8137769438783127\n"
     ]
    }
   ],
   "source": [
    "df_master_res_opt = df_master_res.drop(index=(2018))\n",
    "\n",
    "model.fit(np.array(df_master_res_opt['Value']).reshape(-1,1), df_master_res_opt['optimistic'])\n",
    "prediccion = model.predict(np.array(df_master_res_opt['Value']).reshape(-1,1))\n",
    "print(metrics.r2_score(df_master_res_opt['optimistic'], prediccion))"
   ]
  },
  {
   "cell_type": "code",
   "execution_count": 26,
   "metadata": {},
   "outputs": [
    {
     "data": {
      "text/plain": [
       "[<matplotlib.lines.Line2D at 0x21019d54190>]"
      ]
     },
     "execution_count": 26,
     "metadata": {},
     "output_type": "execute_result"
    },
    {
     "data": {
      "image/png": "[encoded data removed]",
      "text/plain": [
       "<Figure size 640x480 with 1 Axes>"
      ]
     },
     "metadata": {},
     "output_type": "display_data"
    }
   ],
   "source": [
    "sns.scatterplot(data=df_master_res_opt,x= 'Value',y= 'optimistic')\n",
    "plt.plot(df_master_res_opt['Value'], prediccion)"
   ]
  },
  {
   "cell_type": "code",
   "execution_count": 27,
   "metadata": {},
   "outputs": [
    {
     "data": {
      "text/plain": [
       "<AxesSubplot: xlabel='Value', ylabel='angry'>"
      ]
     },
     "execution_count": 27,
     "metadata": {},
     "output_type": "execute_result"
    },
    {
     "data": {
      "image/png": "[encoded data removed]",
      "text/plain": [
       "<Figure size 640x480 with 1 Axes>"
      ]
     },
     "metadata": {},
     "output_type": "display_data"
    }
   ],
   "source": [
    "sns.scatterplot(data=df_master_res,x= 'Value',y= 'angry')"
   ]
  },
  {
   "cell_type": "code",
   "execution_count": 29,
   "metadata": {},
   "outputs": [
    {
     "name": "stdout",
     "output_type": "stream",
     "text": [
      "0.6252641152419298\n"
     ]
    }
   ],
   "source": [
    "df_master_res_ang = df_master_res.drop(index=(2018))\n",
    "\n",
    "model.fit(np.array(df_master_res_ang['Value']).reshape(-1,1), df_master_res_ang['angry'])\n",
    "prediccion = model.predict(np.array(df_master_res_ang['Value']).reshape(-1,1))\n",
    "print(metrics.r2_score(df_master_res_ang['angry'], prediccion))"
   ]
  },
  {
   "cell_type": "code",
   "execution_count": 30,
   "metadata": {},
   "outputs": [
    {
     "data": {
      "text/plain": [
       "[<matplotlib.lines.Line2D at 0x21016a692d0>]"
      ]
     },
     "execution_count": 30,
     "metadata": {},
     "output_type": "execute_result"
    },
    {
     "data": {
      "image/png": "[encoded data removed]",
      "text/plain": [
       "<Figure size 640x480 with 1 Axes>"
      ]
     },
     "metadata": {},
     "output_type": "display_data"
    }
   ],
   "source": [
    "sns.scatterplot(data=df_master_res_ang,x= 'Value',y= 'angry')\n",
    "plt.plot(df_master_res_ang['Value'], prediccion)"
   ]
  },
  {
   "cell_type": "code",
   "execution_count": 31,
   "metadata": {},
   "outputs": [
    {
     "data": {
      "text/plain": [
       "<AxesSubplot: xlabel='Value', ylabel='aggressive'>"
      ]
     },
     "execution_count": 31,
     "metadata": {},
     "output_type": "execute_result"
    },
    {
     "data": {
      "image/png": "[encoded data removed]",
      "text/plain": [
       "<Figure size 640x480 with 1 Axes>"
      ]
     },
     "metadata": {},
     "output_type": "display_data"
    }
   ],
   "source": [
    "sns.scatterplot(data=df_master_res,x= 'Value',y= 'aggressive')"
   ]
  },
  {
   "cell_type": "code",
   "execution_count": 32,
   "metadata": {},
   "outputs": [
    {
     "name": "stdout",
     "output_type": "stream",
     "text": [
      "0.011423683490765613\n"
     ]
    }
   ],
   "source": [
    "df_master_res_ang = df_master_res.drop(index=(2020))\n",
    "\n",
    "model.fit(np.array(df_master_res_ang['Value']).reshape(-1,1), df_master_res_ang['aggressive'])\n",
    "prediccion = model.predict(np.array(df_master_res_ang['Value']).reshape(-1,1))\n",
    "print(metrics.r2_score(df_master_res_ang['aggressive'], prediccion))"
   ]
  },
  {
   "cell_type": "code",
   "execution_count": 33,
   "metadata": {},
   "outputs": [
    {
     "data": {
      "text/plain": [
       "[<matplotlib.lines.Line2D at 0x2101ae0cc50>]"
      ]
     },
     "execution_count": 33,
     "metadata": {},
     "output_type": "execute_result"
    },
    {
     "data": {
      "image/png": "[encoded data removed]",
      "text/plain": [
       "<Figure size 640x480 with 1 Axes>"
      ]
     },
     "metadata": {},
     "output_type": "display_data"
    }
   ],
   "source": [
    "sns.scatterplot(data=df_master_res_ang,x= 'Value',y= 'aggressive')\n",
    "plt.plot(df_master_res_ang['Value'], prediccion)"
   ]
  },
  {
   "cell_type": "markdown",
   "metadata": {},
   "source": [
    "### Año 2020"
   ]
  },
  {
   "cell_type": "code",
   "execution_count": 34,
   "metadata": {
    "scrolled": false
   },
   "outputs": [
    {
     "data": {
      "text/html": [
       "<div>\n",
       "<style scoped>\n",
       "    .dataframe tbody tr th:only-of-type {\n",
       "        vertical-align: middle;\n",
       "    }\n",
       "\n",
       "    .dataframe tbody tr th {\n",
       "        vertical-align: top;\n",
       "    }\n",
       "\n",
       "    .dataframe thead th {\n",
       "        text-align: right;\n",
       "    }\n",
       "</style>\n",
       "<table border=\"1\" class=\"dataframe\">\n",
       "  <thead>\n",
       "    <tr style=\"text-align: right;\">\n",
       "      <th></th>\n",
       "      <th>year</th>\n",
       "      <th>month</th>\n",
       "      <th>angry</th>\n",
       "      <th>Value</th>\n",
       "      <th>aggressive</th>\n",
       "      <th>romantic</th>\n",
       "      <th>optimistic</th>\n",
       "      <th>positive</th>\n",
       "      <th>powerful</th>\n",
       "      <th>light</th>\n",
       "      <th>sad</th>\n",
       "      <th>dramatic</th>\n",
       "      <th>bitter</th>\n",
       "      <th>smooth</th>\n",
       "      <th>streams</th>\n",
       "    </tr>\n",
       "  </thead>\n",
       "  <tbody>\n",
       "    <tr>\n",
       "      <th>36</th>\n",
       "      <td>2020</td>\n",
       "      <td>1</td>\n",
       "      <td>0.024111</td>\n",
       "      <td>3.5</td>\n",
       "      <td>0.001871</td>\n",
       "      <td>0.015174</td>\n",
       "      <td>0.023072</td>\n",
       "      <td>0.004781</td>\n",
       "      <td>0.014966</td>\n",
       "      <td>0.000208</td>\n",
       "      <td>0.080649</td>\n",
       "      <td>0.000208</td>\n",
       "      <td>0.030347</td>\n",
       "      <td>0.015174</td>\n",
       "      <td>2.049480e+09</td>\n",
       "    </tr>\n",
       "    <tr>\n",
       "      <th>37</th>\n",
       "      <td>2020</td>\n",
       "      <td>2</td>\n",
       "      <td>0.021570</td>\n",
       "      <td>3.5</td>\n",
       "      <td>0.004765</td>\n",
       "      <td>0.017055</td>\n",
       "      <td>0.026336</td>\n",
       "      <td>0.017808</td>\n",
       "      <td>0.019313</td>\n",
       "      <td>0.002508</td>\n",
       "      <td>0.090043</td>\n",
       "      <td>0.005016</td>\n",
       "      <td>0.025332</td>\n",
       "      <td>0.017557</td>\n",
       "      <td>1.481570e+09</td>\n",
       "    </tr>\n",
       "    <tr>\n",
       "      <th>38</th>\n",
       "      <td>2020</td>\n",
       "      <td>3</td>\n",
       "      <td>0.013183</td>\n",
       "      <td>4.4</td>\n",
       "      <td>0.008878</td>\n",
       "      <td>0.019101</td>\n",
       "      <td>0.016680</td>\n",
       "      <td>0.008071</td>\n",
       "      <td>0.022868</td>\n",
       "      <td>0.000000</td>\n",
       "      <td>0.082863</td>\n",
       "      <td>0.007802</td>\n",
       "      <td>0.009416</td>\n",
       "      <td>0.019639</td>\n",
       "      <td>1.422453e+09</td>\n",
       "    </tr>\n",
       "    <tr>\n",
       "      <th>39</th>\n",
       "      <td>2020</td>\n",
       "      <td>4</td>\n",
       "      <td>0.007899</td>\n",
       "      <td>14.7</td>\n",
       "      <td>0.007159</td>\n",
       "      <td>0.018761</td>\n",
       "      <td>0.016786</td>\n",
       "      <td>0.008887</td>\n",
       "      <td>0.033572</td>\n",
       "      <td>0.000494</td>\n",
       "      <td>0.069612</td>\n",
       "      <td>0.000987</td>\n",
       "      <td>0.007652</td>\n",
       "      <td>0.018514</td>\n",
       "      <td>1.176845e+09</td>\n",
       "    </tr>\n",
       "    <tr>\n",
       "      <th>40</th>\n",
       "      <td>2020</td>\n",
       "      <td>5</td>\n",
       "      <td>0.008796</td>\n",
       "      <td>13.2</td>\n",
       "      <td>0.003848</td>\n",
       "      <td>0.020616</td>\n",
       "      <td>0.017592</td>\n",
       "      <td>0.009071</td>\n",
       "      <td>0.034360</td>\n",
       "      <td>0.000550</td>\n",
       "      <td>0.065421</td>\n",
       "      <td>0.007697</td>\n",
       "      <td>0.012919</td>\n",
       "      <td>0.020341</td>\n",
       "      <td>1.078893e+09</td>\n",
       "    </tr>\n",
       "  </tbody>\n",
       "</table>\n",
       "</div>"
      ],
      "text/plain": [
       "    year  month     angry  Value  aggressive  romantic  optimistic  positive  \\\n",
       "36  2020      1  0.024111    3.5    0.001871  0.015174    0.023072  0.004781   \n",
       "37  2020      2  0.021570    3.5    0.004765  0.017055    0.026336  0.017808   \n",
       "38  2020      3  0.013183    4.4    0.008878  0.019101    0.016680  0.008071   \n",
       "39  2020      4  0.007899   14.7    0.007159  0.018761    0.016786  0.008887   \n",
       "40  2020      5  0.008796   13.2    0.003848  0.020616    0.017592  0.009071   \n",
       "\n",
       "    powerful     light       sad  dramatic    bitter    smooth       streams  \n",
       "36  0.014966  0.000208  0.080649  0.000208  0.030347  0.015174  2.049480e+09  \n",
       "37  0.019313  0.002508  0.090043  0.005016  0.025332  0.017557  1.481570e+09  \n",
       "38  0.022868  0.000000  0.082863  0.007802  0.009416  0.019639  1.422453e+09  \n",
       "39  0.033572  0.000494  0.069612  0.000987  0.007652  0.018514  1.176845e+09  \n",
       "40  0.034360  0.000550  0.065421  0.007697  0.012919  0.020341  1.078893e+09  "
      ]
     },
     "execution_count": 34,
     "metadata": {},
     "output_type": "execute_result"
    }
   ],
   "source": [
    "df_master1 = df_master[df_master['year']==2020]\n",
    "df_master1.head()"
   ]
  },
  {
   "cell_type": "code",
   "execution_count": 35,
   "metadata": {
    "scrolled": false
   },
   "outputs": [
    {
     "data": {
      "text/html": [
       "<div>\n",
       "<style scoped>\n",
       "    .dataframe tbody tr th:only-of-type {\n",
       "        vertical-align: middle;\n",
       "    }\n",
       "\n",
       "    .dataframe tbody tr th {\n",
       "        vertical-align: top;\n",
       "    }\n",
       "\n",
       "    .dataframe thead th {\n",
       "        text-align: right;\n",
       "    }\n",
       "</style>\n",
       "<table border=\"1\" class=\"dataframe\">\n",
       "  <thead>\n",
       "    <tr style=\"text-align: right;\">\n",
       "      <th></th>\n",
       "      <th>angry</th>\n",
       "      <th>sad</th>\n",
       "      <th>positive</th>\n",
       "      <th>optimistic</th>\n",
       "      <th>aggressive</th>\n",
       "      <th>Value</th>\n",
       "    </tr>\n",
       "  </thead>\n",
       "  <tbody>\n",
       "    <tr>\n",
       "      <th>36</th>\n",
       "      <td>0.024111</td>\n",
       "      <td>0.080649</td>\n",
       "      <td>0.004781</td>\n",
       "      <td>0.023072</td>\n",
       "      <td>0.001871</td>\n",
       "      <td>3.5</td>\n",
       "    </tr>\n",
       "    <tr>\n",
       "      <th>37</th>\n",
       "      <td>0.021570</td>\n",
       "      <td>0.090043</td>\n",
       "      <td>0.017808</td>\n",
       "      <td>0.026336</td>\n",
       "      <td>0.004765</td>\n",
       "      <td>3.5</td>\n",
       "    </tr>\n",
       "    <tr>\n",
       "      <th>38</th>\n",
       "      <td>0.013183</td>\n",
       "      <td>0.082863</td>\n",
       "      <td>0.008071</td>\n",
       "      <td>0.016680</td>\n",
       "      <td>0.008878</td>\n",
       "      <td>4.4</td>\n",
       "    </tr>\n",
       "    <tr>\n",
       "      <th>46</th>\n",
       "      <td>0.011820</td>\n",
       "      <td>0.053323</td>\n",
       "      <td>0.006042</td>\n",
       "      <td>0.021539</td>\n",
       "      <td>0.000263</td>\n",
       "      <td>6.7</td>\n",
       "    </tr>\n",
       "    <tr>\n",
       "      <th>47</th>\n",
       "      <td>0.015573</td>\n",
       "      <td>0.038933</td>\n",
       "      <td>0.001888</td>\n",
       "      <td>0.017933</td>\n",
       "      <td>0.001652</td>\n",
       "      <td>6.7</td>\n",
       "    </tr>\n",
       "    <tr>\n",
       "      <th>45</th>\n",
       "      <td>0.009396</td>\n",
       "      <td>0.051253</td>\n",
       "      <td>0.009112</td>\n",
       "      <td>0.017938</td>\n",
       "      <td>0.005125</td>\n",
       "      <td>6.9</td>\n",
       "    </tr>\n",
       "    <tr>\n",
       "      <th>44</th>\n",
       "      <td>0.013618</td>\n",
       "      <td>0.058805</td>\n",
       "      <td>0.011142</td>\n",
       "      <td>0.020427</td>\n",
       "      <td>0.008976</td>\n",
       "      <td>7.9</td>\n",
       "    </tr>\n",
       "    <tr>\n",
       "      <th>43</th>\n",
       "      <td>0.027602</td>\n",
       "      <td>0.064117</td>\n",
       "      <td>0.008913</td>\n",
       "      <td>0.021564</td>\n",
       "      <td>0.002300</td>\n",
       "      <td>8.4</td>\n",
       "    </tr>\n",
       "    <tr>\n",
       "      <th>42</th>\n",
       "      <td>0.017827</td>\n",
       "      <td>0.058574</td>\n",
       "      <td>0.009055</td>\n",
       "      <td>0.021222</td>\n",
       "      <td>0.003679</td>\n",
       "      <td>10.2</td>\n",
       "    </tr>\n",
       "    <tr>\n",
       "      <th>41</th>\n",
       "      <td>0.015982</td>\n",
       "      <td>0.059361</td>\n",
       "      <td>0.007864</td>\n",
       "      <td>0.017504</td>\n",
       "      <td>0.008625</td>\n",
       "      <td>11.0</td>\n",
       "    </tr>\n",
       "    <tr>\n",
       "      <th>40</th>\n",
       "      <td>0.008796</td>\n",
       "      <td>0.065421</td>\n",
       "      <td>0.009071</td>\n",
       "      <td>0.017592</td>\n",
       "      <td>0.003848</td>\n",
       "      <td>13.2</td>\n",
       "    </tr>\n",
       "    <tr>\n",
       "      <th>39</th>\n",
       "      <td>0.007899</td>\n",
       "      <td>0.069612</td>\n",
       "      <td>0.008887</td>\n",
       "      <td>0.016786</td>\n",
       "      <td>0.007159</td>\n",
       "      <td>14.7</td>\n",
       "    </tr>\n",
       "  </tbody>\n",
       "</table>\n",
       "</div>"
      ],
      "text/plain": [
       "       angry       sad  positive  optimistic  aggressive  Value\n",
       "36  0.024111  0.080649  0.004781    0.023072    0.001871    3.5\n",
       "37  0.021570  0.090043  0.017808    0.026336    0.004765    3.5\n",
       "38  0.013183  0.082863  0.008071    0.016680    0.008878    4.4\n",
       "46  0.011820  0.053323  0.006042    0.021539    0.000263    6.7\n",
       "47  0.015573  0.038933  0.001888    0.017933    0.001652    6.7\n",
       "45  0.009396  0.051253  0.009112    0.017938    0.005125    6.9\n",
       "44  0.013618  0.058805  0.011142    0.020427    0.008976    7.9\n",
       "43  0.027602  0.064117  0.008913    0.021564    0.002300    8.4\n",
       "42  0.017827  0.058574  0.009055    0.021222    0.003679   10.2\n",
       "41  0.015982  0.059361  0.007864    0.017504    0.008625   11.0\n",
       "40  0.008796  0.065421  0.009071    0.017592    0.003848   13.2\n",
       "39  0.007899  0.069612  0.008887    0.016786    0.007159   14.7"
      ]
     },
     "metadata": {},
     "output_type": "display_data"
    }
   ],
   "source": [
    "display(df_master1.sort_values('Value')[['angry','sad','positive', 'optimistic','aggressive','Value']])"
   ]
  },
  {
   "cell_type": "code",
   "execution_count": 36,
   "metadata": {},
   "outputs": [
    {
     "name": "stdout",
     "output_type": "stream",
     "text": [
      "0.04892682641845125\n"
     ]
    }
   ],
   "source": [
    "model.fit(np.array(df_master1['Value']).reshape(-1,1), df_master1['aggressive'])\n",
    "predicion = model.predict(np.array(df_master1['Value']).reshape(-1,1))\n",
    "print(metrics.r2_score(df_master1['aggressive'], predicion))"
   ]
  },
  {
   "cell_type": "code",
   "execution_count": 37,
   "metadata": {},
   "outputs": [
    {
     "data": {
      "text/plain": [
       "[<matplotlib.lines.Line2D at 0x210155b1550>]"
      ]
     },
     "execution_count": 37,
     "metadata": {},
     "output_type": "execute_result"
    },
    {
     "data": {
      "image/png": "[encoded data removed]",
      "text/plain": [
       "<Figure size 640x480 with 1 Axes>"
      ]
     },
     "metadata": {},
     "output_type": "display_data"
    }
   ],
   "source": [
    "sns.scatterplot(data=df_master1,x= 'Value',y= 'aggressive')\n",
    "plt.plot(df_master1['Value'], predicion)"
   ]
  }
 ],
 "metadata": {
  "kernelspec": {
   "display_name": "Python 3 (ipykernel)",
   "language": "python",
   "name": "python3"
  },
  "language_info": {
   "codemirror_mode": {
    "name": "ipython",
    "version": 3
   },
   "file_extension": ".py",
   "mimetype": "text/x-python",
   "name": "python",
   "nbconvert_exporter": "python",
   "pygments_lexer": "ipython3",
   "version": "3.11.0"
  },
  "vscode": {
   "interpreter": {
    "hash": "ad8cded81638951cd29b6b3d8cbb37d107e22dee46ff5d98c68eecece3c412c9"
   }
  }
 },
 "nbformat": 4,
 "nbformat_minor": 2
}
